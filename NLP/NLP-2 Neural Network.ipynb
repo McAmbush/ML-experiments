{
 "cells": [
  {
   "cell_type": "code",
   "execution_count": 1,
   "metadata": {
    "collapsed": true
   },
   "outputs": [],
   "source": [
    "import pandas as pd"
   ]
  },
  {
   "cell_type": "code",
   "execution_count": 4,
   "metadata": {
    "collapsed": false
   },
   "outputs": [],
   "source": [
    "tweets = pd.read_csv('Tweets.csv')"
   ]
  },
  {
   "cell_type": "code",
   "execution_count": 6,
   "metadata": {
    "collapsed": false
   },
   "outputs": [
    {
     "data": {
      "text/html": [
       "<div>\n",
       "<table border=\"1\" class=\"dataframe\">\n",
       "  <thead>\n",
       "    <tr style=\"text-align: right;\">\n",
       "      <th></th>\n",
       "      <th>tweet_id</th>\n",
       "      <th>airline_sentiment</th>\n",
       "      <th>airline_sentiment_confidence</th>\n",
       "      <th>negativereason</th>\n",
       "      <th>negativereason_confidence</th>\n",
       "      <th>airline</th>\n",
       "      <th>airline_sentiment_gold</th>\n",
       "      <th>name</th>\n",
       "      <th>negativereason_gold</th>\n",
       "      <th>retweet_count</th>\n",
       "      <th>text</th>\n",
       "      <th>tweet_coord</th>\n",
       "      <th>tweet_created</th>\n",
       "      <th>tweet_location</th>\n",
       "      <th>user_timezone</th>\n",
       "    </tr>\n",
       "  </thead>\n",
       "  <tbody>\n",
       "    <tr>\n",
       "      <th>0</th>\n",
       "      <td>570306133677760513</td>\n",
       "      <td>neutral</td>\n",
       "      <td>1.0000</td>\n",
       "      <td>NaN</td>\n",
       "      <td>NaN</td>\n",
       "      <td>Virgin America</td>\n",
       "      <td>NaN</td>\n",
       "      <td>cairdin</td>\n",
       "      <td>NaN</td>\n",
       "      <td>0</td>\n",
       "      <td>@VirginAmerica What @dhepburn said.</td>\n",
       "      <td>NaN</td>\n",
       "      <td>2015-02-24 11:35:52 -0800</td>\n",
       "      <td>NaN</td>\n",
       "      <td>Eastern Time (US &amp; Canada)</td>\n",
       "    </tr>\n",
       "    <tr>\n",
       "      <th>1</th>\n",
       "      <td>570301130888122368</td>\n",
       "      <td>positive</td>\n",
       "      <td>0.3486</td>\n",
       "      <td>NaN</td>\n",
       "      <td>0.0000</td>\n",
       "      <td>Virgin America</td>\n",
       "      <td>NaN</td>\n",
       "      <td>jnardino</td>\n",
       "      <td>NaN</td>\n",
       "      <td>0</td>\n",
       "      <td>@VirginAmerica plus you've added commercials t...</td>\n",
       "      <td>NaN</td>\n",
       "      <td>2015-02-24 11:15:59 -0800</td>\n",
       "      <td>NaN</td>\n",
       "      <td>Pacific Time (US &amp; Canada)</td>\n",
       "    </tr>\n",
       "    <tr>\n",
       "      <th>2</th>\n",
       "      <td>570301083672813571</td>\n",
       "      <td>neutral</td>\n",
       "      <td>0.6837</td>\n",
       "      <td>NaN</td>\n",
       "      <td>NaN</td>\n",
       "      <td>Virgin America</td>\n",
       "      <td>NaN</td>\n",
       "      <td>yvonnalynn</td>\n",
       "      <td>NaN</td>\n",
       "      <td>0</td>\n",
       "      <td>@VirginAmerica I didn't today... Must mean I n...</td>\n",
       "      <td>NaN</td>\n",
       "      <td>2015-02-24 11:15:48 -0800</td>\n",
       "      <td>Lets Play</td>\n",
       "      <td>Central Time (US &amp; Canada)</td>\n",
       "    </tr>\n",
       "    <tr>\n",
       "      <th>3</th>\n",
       "      <td>570301031407624196</td>\n",
       "      <td>negative</td>\n",
       "      <td>1.0000</td>\n",
       "      <td>Bad Flight</td>\n",
       "      <td>0.7033</td>\n",
       "      <td>Virgin America</td>\n",
       "      <td>NaN</td>\n",
       "      <td>jnardino</td>\n",
       "      <td>NaN</td>\n",
       "      <td>0</td>\n",
       "      <td>@VirginAmerica it's really aggressive to blast...</td>\n",
       "      <td>NaN</td>\n",
       "      <td>2015-02-24 11:15:36 -0800</td>\n",
       "      <td>NaN</td>\n",
       "      <td>Pacific Time (US &amp; Canada)</td>\n",
       "    </tr>\n",
       "    <tr>\n",
       "      <th>4</th>\n",
       "      <td>570300817074462722</td>\n",
       "      <td>negative</td>\n",
       "      <td>1.0000</td>\n",
       "      <td>Can't Tell</td>\n",
       "      <td>1.0000</td>\n",
       "      <td>Virgin America</td>\n",
       "      <td>NaN</td>\n",
       "      <td>jnardino</td>\n",
       "      <td>NaN</td>\n",
       "      <td>0</td>\n",
       "      <td>@VirginAmerica and it's a really big bad thing...</td>\n",
       "      <td>NaN</td>\n",
       "      <td>2015-02-24 11:14:45 -0800</td>\n",
       "      <td>NaN</td>\n",
       "      <td>Pacific Time (US &amp; Canada)</td>\n",
       "    </tr>\n",
       "  </tbody>\n",
       "</table>\n",
       "</div>"
      ],
      "text/plain": [
       "             tweet_id airline_sentiment  airline_sentiment_confidence  \\\n",
       "0  570306133677760513           neutral                        1.0000   \n",
       "1  570301130888122368          positive                        0.3486   \n",
       "2  570301083672813571           neutral                        0.6837   \n",
       "3  570301031407624196          negative                        1.0000   \n",
       "4  570300817074462722          negative                        1.0000   \n",
       "\n",
       "  negativereason  negativereason_confidence         airline  \\\n",
       "0            NaN                        NaN  Virgin America   \n",
       "1            NaN                     0.0000  Virgin America   \n",
       "2            NaN                        NaN  Virgin America   \n",
       "3     Bad Flight                     0.7033  Virgin America   \n",
       "4     Can't Tell                     1.0000  Virgin America   \n",
       "\n",
       "  airline_sentiment_gold        name negativereason_gold  retweet_count  \\\n",
       "0                    NaN     cairdin                 NaN              0   \n",
       "1                    NaN    jnardino                 NaN              0   \n",
       "2                    NaN  yvonnalynn                 NaN              0   \n",
       "3                    NaN    jnardino                 NaN              0   \n",
       "4                    NaN    jnardino                 NaN              0   \n",
       "\n",
       "                                                text tweet_coord  \\\n",
       "0                @VirginAmerica What @dhepburn said.         NaN   \n",
       "1  @VirginAmerica plus you've added commercials t...         NaN   \n",
       "2  @VirginAmerica I didn't today... Must mean I n...         NaN   \n",
       "3  @VirginAmerica it's really aggressive to blast...         NaN   \n",
       "4  @VirginAmerica and it's a really big bad thing...         NaN   \n",
       "\n",
       "               tweet_created tweet_location               user_timezone  \n",
       "0  2015-02-24 11:35:52 -0800            NaN  Eastern Time (US & Canada)  \n",
       "1  2015-02-24 11:15:59 -0800            NaN  Pacific Time (US & Canada)  \n",
       "2  2015-02-24 11:15:48 -0800      Lets Play  Central Time (US & Canada)  \n",
       "3  2015-02-24 11:15:36 -0800            NaN  Pacific Time (US & Canada)  \n",
       "4  2015-02-24 11:14:45 -0800            NaN  Pacific Time (US & Canada)  "
      ]
     },
     "execution_count": 6,
     "metadata": {},
     "output_type": "execute_result"
    }
   ],
   "source": [
    "tweets.head()"
   ]
  },
  {
   "cell_type": "code",
   "execution_count": 10,
   "metadata": {
    "collapsed": false
   },
   "outputs": [
    {
     "data": {
      "text/plain": [
       "negative    9178\n",
       "neutral     3099\n",
       "positive    2363\n",
       "Name: airline_sentiment, dtype: int64"
      ]
     },
     "execution_count": 10,
     "metadata": {},
     "output_type": "execute_result"
    }
   ],
   "source": [
    "tweets['airline_sentiment'].value_counts()"
   ]
  },
  {
   "cell_type": "code",
   "execution_count": 12,
   "metadata": {
    "collapsed": false
   },
   "outputs": [
    {
     "data": {
      "text/plain": [
       "United            3822\n",
       "US Airways        2913\n",
       "American          2759\n",
       "Southwest         2420\n",
       "Delta             2222\n",
       "Virgin America     504\n",
       "Name: airline, dtype: int64"
      ]
     },
     "execution_count": 12,
     "metadata": {},
     "output_type": "execute_result"
    }
   ],
   "source": [
    "tweets['airline'].value_counts()"
   ]
  },
  {
   "cell_type": "code",
   "execution_count": 16,
   "metadata": {
    "collapsed": false
   },
   "outputs": [
    {
     "data": {
      "text/plain": [
       "negative    181\n",
       "neutral     171\n",
       "positive    152\n",
       "Name: airline_sentiment, dtype: int64"
      ]
     },
     "execution_count": 16,
     "metadata": {},
     "output_type": "execute_result"
    }
   ],
   "source": [
    "tweets[tweets.airline == \"Virgin America\"]['airline_sentiment'].value_counts()"
   ]
  },
  {
   "cell_type": "code",
   "execution_count": 18,
   "metadata": {
    "collapsed": false
   },
   "outputs": [
    {
     "ename": "ModuleNotFoundError",
     "evalue": "No module named 'wordcloud'",
     "output_type": "error",
     "traceback": [
      "\u001b[0;31m---------------------------------------------------------------------------\u001b[0m",
      "\u001b[0;31mModuleNotFoundError\u001b[0m                       Traceback (most recent call last)",
      "\u001b[0;32m<ipython-input-18-64929149cb4c>\u001b[0m in \u001b[0;36m<module>\u001b[0;34m()\u001b[0m\n\u001b[0;32m----> 1\u001b[0;31m \u001b[0;32mimport\u001b[0m \u001b[0mwordcloud\u001b[0m\u001b[0;34m\u001b[0m\u001b[0m\n\u001b[0m",
      "\u001b[0;31mModuleNotFoundError\u001b[0m: No module named 'wordcloud'"
     ]
    }
   ],
   "source": [
    "import wordcloud"
   ]
  },
  {
   "cell_type": "code",
   "execution_count": 20,
   "metadata": {
    "collapsed": false
   },
   "outputs": [],
   "source": [
    "tweets['sentiment'] = tweets['airline_sentiment'].apply(\n",
    "    lambda x: 0 if x == 'negative' else 1\n",
    ")\n"
   ]
  },
  {
   "cell_type": "code",
   "execution_count": 23,
   "metadata": {
    "collapsed": true
   },
   "outputs": [],
   "source": [
    "from nltk.tokenize import word_tokenize\n",
    "from nltk.corpus import stopwords"
   ]
  },
  {
   "cell_type": "code",
   "execution_count": 40,
   "metadata": {
    "collapsed": true
   },
   "outputs": [],
   "source": [
    "def tweet_to_words(text):\n",
    "    words = word_tokenize(text.lower())\n",
    "    stops = set(stopwords.words(\"english\"))\n",
    "    good_words = [w for w in words if not w in stops]\n",
    "    return \" \".join(good_words)"
   ]
  },
  {
   "cell_type": "code",
   "execution_count": 41,
   "metadata": {
    "collapsed": false
   },
   "outputs": [],
   "source": [
    "data = tweets['text'].apply(tweet_to_words)\n",
    "target = tweets['sentiment']"
   ]
  },
  {
   "cell_type": "code",
   "execution_count": 42,
   "metadata": {
    "collapsed": true
   },
   "outputs": [],
   "source": [
    "from sklearn.model_selection import train_test_split"
   ]
  },
  {
   "cell_type": "code",
   "execution_count": 43,
   "metadata": {
    "collapsed": true
   },
   "outputs": [],
   "source": [
    "x_train, x_test, y_train, y_test = train_test_split(data, target, random_state = 0)"
   ]
  },
  {
   "cell_type": "code",
   "execution_count": 44,
   "metadata": {
    "collapsed": true
   },
   "outputs": [],
   "source": [
    "from sklearn.feature_extraction.text import CountVectorizer"
   ]
  },
  {
   "cell_type": "code",
   "execution_count": 98,
   "metadata": {
    "collapsed": false
   },
   "outputs": [],
   "source": [
    "v = CountVectorizer(max_features = 1000, ngram_range=(1,2))"
   ]
  },
  {
   "cell_type": "code",
   "execution_count": 99,
   "metadata": {
    "collapsed": false
   },
   "outputs": [],
   "source": [
    "train_features = v.fit_transform(x_train)"
   ]
  },
  {
   "cell_type": "code",
   "execution_count": 100,
   "metadata": {
    "collapsed": false
   },
   "outputs": [
    {
     "data": {
      "text/plain": [
       "['000',\n",
       " '10',\n",
       " '100',\n",
       " '11',\n",
       " '12',\n",
       " '15',\n",
       " '19',\n",
       " '1hr',\n",
       " '1k',\n",
       " '1st',\n",
       " '1st class',\n",
       " '20',\n",
       " '20 minutes',\n",
       " '200',\n",
       " '2015',\n",
       " '23',\n",
       " '24',\n",
       " '25',\n",
       " '2nd',\n",
       " '30',\n",
       " '30 min',\n",
       " '30 minutes',\n",
       " '3rd',\n",
       " '40',\n",
       " '45',\n",
       " '45 minutes',\n",
       " '50',\n",
       " '60',\n",
       " '75',\n",
       " '800',\n",
       " '90',\n",
       " 'aa',\n",
       " 'able',\n",
       " 'able get',\n",
       " 'absolutely',\n",
       " 'acceptable',\n",
       " 'access',\n",
       " 'account',\n",
       " 'actually',\n",
       " 'add',\n",
       " 'address',\n",
       " 'afternoon',\n",
       " 'agent',\n",
       " 'agents',\n",
       " 'ago',\n",
       " 'air',\n",
       " 'aircraft',\n",
       " 'airline',\n",
       " 'airline ever',\n",
       " 'airlines',\n",
       " 'airport',\n",
       " 'airways',\n",
       " 'all',\n",
       " 'allow',\n",
       " 'allowed',\n",
       " 'almost',\n",
       " 'already',\n",
       " 'also',\n",
       " 'always',\n",
       " 'amazing',\n",
       " 'american',\n",
       " 'americanair',\n",
       " 'americanair cancelled',\n",
       " 'americanair flight',\n",
       " 'americanair need',\n",
       " 'americanair please',\n",
       " 'americanair thank',\n",
       " 'americanair thanks',\n",
       " 'americanair trying',\n",
       " 'americanair usairways',\n",
       " 'americanair ve',\n",
       " 'americanair yes',\n",
       " 'americanairlines',\n",
       " 'amp',\n",
       " 'another',\n",
       " 'another airline',\n",
       " 'another flight',\n",
       " 'answer',\n",
       " 'answering',\n",
       " 'answers',\n",
       " 'anyone',\n",
       " 'anything',\n",
       " 'apology',\n",
       " 'app',\n",
       " 'apparently',\n",
       " 'appreciate',\n",
       " 'appreciated',\n",
       " 'area',\n",
       " 'around',\n",
       " 'arrival',\n",
       " 'arrive',\n",
       " 'arrived',\n",
       " 'arriving',\n",
       " 'asap',\n",
       " 'ask',\n",
       " 'asked',\n",
       " 'asking',\n",
       " 'assistance',\n",
       " 'atl',\n",
       " 'atlanta',\n",
       " 'attendant',\n",
       " 'attendants',\n",
       " 'attitude',\n",
       " 'austin',\n",
       " 'auto',\n",
       " 'automated',\n",
       " 'available',\n",
       " 'award',\n",
       " 'away',\n",
       " 'awesome',\n",
       " 'awful',\n",
       " 'baby',\n",
       " 'back',\n",
       " 'bad',\n",
       " 'bad weather',\n",
       " 'bag',\n",
       " 'baggage',\n",
       " 'baggage claim',\n",
       " 'bags',\n",
       " 'bc',\n",
       " 'believe',\n",
       " 'best',\n",
       " 'better',\n",
       " 'beyond',\n",
       " 'big',\n",
       " 'birthday',\n",
       " 'blue',\n",
       " 'bna',\n",
       " 'board',\n",
       " 'boarded',\n",
       " 'boarding',\n",
       " 'boarding pass',\n",
       " 'book',\n",
       " 'book flight',\n",
       " 'booked',\n",
       " 'booking',\n",
       " 'booking problems',\n",
       " 'bos',\n",
       " 'boston',\n",
       " 'bought',\n",
       " 'bring',\n",
       " 'broken',\n",
       " 'business',\n",
       " 'busy',\n",
       " 'buy',\n",
       " 'bwi',\n",
       " 'ca',\n",
       " 'ca get',\n",
       " 'ca wait',\n",
       " 'cabin',\n",
       " 'call',\n",
       " 'call back',\n",
       " 'called',\n",
       " 'calling',\n",
       " 'calls',\n",
       " 'came',\n",
       " 'cancelled',\n",
       " 'cancelled flight',\n",
       " 'cancelled flighted',\n",
       " 'cancelled flighting',\n",
       " 'cancelled flightlation',\n",
       " 'cancelled flightlations',\n",
       " 'cancelled flightled',\n",
       " 'cant',\n",
       " 'car',\n",
       " 'card',\n",
       " 'care',\n",
       " 'carry',\n",
       " 'case',\n",
       " 'cause',\n",
       " 'ceo',\n",
       " 'chance',\n",
       " 'change',\n",
       " 'change flight',\n",
       " 'changed',\n",
       " 'changes',\n",
       " 'changing',\n",
       " 'charge',\n",
       " 'charged',\n",
       " 'charlotte',\n",
       " 'check',\n",
       " 'check in',\n",
       " 'checked',\n",
       " 'checked bag',\n",
       " 'checkin',\n",
       " 'checking',\n",
       " 'chicago',\n",
       " 'child',\n",
       " 'city',\n",
       " 'claim',\n",
       " 'class',\n",
       " 'clothes',\n",
       " 'clt',\n",
       " 'club',\n",
       " 'co',\n",
       " 'code',\n",
       " 'cold',\n",
       " 'come',\n",
       " 'coming',\n",
       " 'communication',\n",
       " 'companion',\n",
       " 'company',\n",
       " 'compensation',\n",
       " 'complaint',\n",
       " 'complete',\n",
       " 'completely',\n",
       " 'computer',\n",
       " 'confirm',\n",
       " 'confirmation',\n",
       " 'confirmed',\n",
       " 'connect',\n",
       " 'connecting',\n",
       " 'connecting flight',\n",
       " 'connection',\n",
       " 'connections',\n",
       " 'contact',\n",
       " 'control',\n",
       " 'cool',\n",
       " 'correct',\n",
       " 'cost',\n",
       " 'could',\n",
       " 'could get',\n",
       " 'counter',\n",
       " 'counting',\n",
       " 'country',\n",
       " 'course',\n",
       " 'cover',\n",
       " 'crazy',\n",
       " 'credit',\n",
       " 'credit card',\n",
       " 'crew',\n",
       " 'currently',\n",
       " 'cust',\n",
       " 'customer',\n",
       " 'customer relations',\n",
       " 'customer service',\n",
       " 'customers',\n",
       " 'customerservice',\n",
       " 'dallas',\n",
       " 'date',\n",
       " 'daughter',\n",
       " 'day',\n",
       " 'days',\n",
       " 'dc',\n",
       " 'dca',\n",
       " 'deal',\n",
       " 'dealing',\n",
       " 'delay',\n",
       " 'delayed',\n",
       " 'delayed flight',\n",
       " 'delayed hours',\n",
       " 'delays',\n",
       " 'delivered',\n",
       " 'delta',\n",
       " 'den',\n",
       " 'denver',\n",
       " 'departure',\n",
       " 'desk',\n",
       " 'despite',\n",
       " 'destination',\n",
       " 'destinationdragons',\n",
       " 'details',\n",
       " 'dfw',\n",
       " 'different',\n",
       " 'direct',\n",
       " 'disappointed',\n",
       " 'disconnected',\n",
       " 'dividend',\n",
       " 'dividend miles',\n",
       " 'dm',\n",
       " 'done',\n",
       " 'dont',\n",
       " 'door',\n",
       " 'drive',\n",
       " 'due',\n",
       " 'due weather',\n",
       " 'earlier',\n",
       " 'earlier flight',\n",
       " 'early',\n",
       " 'easy',\n",
       " 'either',\n",
       " 'else',\n",
       " 'email',\n",
       " 'employee',\n",
       " 'employees',\n",
       " 'empty',\n",
       " 'end',\n",
       " 'enjoy',\n",
       " 'enough',\n",
       " 'entertainment',\n",
       " 'entire',\n",
       " 'error',\n",
       " 'especially',\n",
       " 'even',\n",
       " 'even though',\n",
       " 'evening',\n",
       " 'ever',\n",
       " 'every',\n",
       " 'every time',\n",
       " 'everyone',\n",
       " 'everything',\n",
       " 'ewr',\n",
       " 'excited',\n",
       " 'expect',\n",
       " 'experience',\n",
       " 'explain',\n",
       " 'extra',\n",
       " 'extremely',\n",
       " 'fact',\n",
       " 'fail',\n",
       " 'failed',\n",
       " 'failure',\n",
       " 'family',\n",
       " 'far',\n",
       " 'fare',\n",
       " 'fault',\n",
       " 'feb',\n",
       " 'fee',\n",
       " 'feel',\n",
       " 'fees',\n",
       " 'figure',\n",
       " 'finally',\n",
       " 'find',\n",
       " 'fine',\n",
       " 'first',\n",
       " 'first class',\n",
       " 'first time',\n",
       " 'fix',\n",
       " 'fixed',\n",
       " 'fl',\n",
       " 'fleek',\n",
       " 'fleek http',\n",
       " 'fleet',\n",
       " 'fleet fleek',\n",
       " 'flew',\n",
       " 'flight',\n",
       " 'flight attendant',\n",
       " 'flight attendants',\n",
       " 'flight booking',\n",
       " 'flight cancelled',\n",
       " 'flight crew',\n",
       " 'flight delayed',\n",
       " 'flight flight',\n",
       " 'flight got',\n",
       " 'flight time',\n",
       " 'flight today',\n",
       " 'flight tomorrow',\n",
       " 'flighted',\n",
       " 'flighted flight',\n",
       " 'flighting',\n",
       " 'flightlation',\n",
       " 'flightlations',\n",
       " 'flightled',\n",
       " 'flightled flight',\n",
       " 'flightled flights',\n",
       " 'flightr',\n",
       " 'flights',\n",
       " 'fll',\n",
       " 'flown',\n",
       " 'flt',\n",
       " 'fly',\n",
       " 'flyer',\n",
       " 'flying',\n",
       " 'folks',\n",
       " 'follow',\n",
       " 'follow dm',\n",
       " 'following',\n",
       " 'food',\n",
       " 'forced',\n",
       " 'form',\n",
       " 'forward',\n",
       " 'found',\n",
       " 'four',\n",
       " 'free',\n",
       " 'frequent',\n",
       " 'friday',\n",
       " 'friend',\n",
       " 'friendly',\n",
       " 'friends',\n",
       " 'front',\n",
       " 'frustrated',\n",
       " 'frustrating',\n",
       " 'full',\n",
       " 'fun',\n",
       " 'funeral',\n",
       " 'future',\n",
       " 'gate',\n",
       " 'gate agent',\n",
       " 'gate agents',\n",
       " 'gave',\n",
       " 'get',\n",
       " 'get back',\n",
       " 'get flight',\n",
       " 'get home',\n",
       " 'get plane',\n",
       " 'gets',\n",
       " 'getting',\n",
       " 'give',\n",
       " 'given',\n",
       " 'gives',\n",
       " 'giving',\n",
       " 'glad',\n",
       " 'go',\n",
       " 'goes',\n",
       " 'going',\n",
       " 'gold',\n",
       " 'gon',\n",
       " 'gon na',\n",
       " 'good',\n",
       " 'got',\n",
       " 'great',\n",
       " 'great flight',\n",
       " 'ground',\n",
       " 'group',\n",
       " 'gt',\n",
       " 'guess',\n",
       " 'guy',\n",
       " 'guys',\n",
       " 'haha',\n",
       " 'half',\n",
       " 'handle',\n",
       " 'hang',\n",
       " 'happen',\n",
       " 'happened',\n",
       " 'happens',\n",
       " 'happy',\n",
       " 'hard',\n",
       " 'hate',\n",
       " 'hear',\n",
       " 'heard',\n",
       " 'held',\n",
       " 'hello',\n",
       " 'help',\n",
       " 'help us',\n",
       " 'helped',\n",
       " 'helpful',\n",
       " 'helping',\n",
       " 'hey',\n",
       " 'hi',\n",
       " 'high',\n",
       " 'hold',\n",
       " 'hold hour',\n",
       " 'hold hours',\n",
       " 'hold hrs',\n",
       " 'holding',\n",
       " 'home',\n",
       " 'hope',\n",
       " 'hopefully',\n",
       " 'hoping',\n",
       " 'horrible',\n",
       " 'hotel',\n",
       " 'hour',\n",
       " 'hour delay',\n",
       " 'hours',\n",
       " 'hours hold',\n",
       " 'hours late',\n",
       " 'houston',\n",
       " 'hr',\n",
       " 'hrs',\n",
       " 'http',\n",
       " 'http co',\n",
       " 'https',\n",
       " 'https co',\n",
       " 'huge',\n",
       " 'human',\n",
       " 'hung',\n",
       " 'husband',\n",
       " 'iad',\n",
       " 'iah',\n",
       " 'ice',\n",
       " 'id',\n",
       " 'idea',\n",
       " 'im',\n",
       " 'imaginedragons',\n",
       " 'in',\n",
       " 'inconvenience',\n",
       " 'info',\n",
       " 'information',\n",
       " 'instead',\n",
       " 'international',\n",
       " 'issue',\n",
       " 'issues',\n",
       " 'jet',\n",
       " 'jetblue',\n",
       " 'jetblue fleet',\n",
       " 'jetblue flight',\n",
       " 'jetblue thank',\n",
       " 'jetblue thanks',\n",
       " 'jetblue would',\n",
       " 'jetblue yes',\n",
       " 'jfk',\n",
       " 'job',\n",
       " 'joke',\n",
       " 'keep',\n",
       " 'keep getting',\n",
       " 'keeps',\n",
       " 'kept',\n",
       " 'kids',\n",
       " 'kind',\n",
       " 'knew',\n",
       " 'know',\n",
       " 'kudos',\n",
       " 'la',\n",
       " 'lack',\n",
       " 'land',\n",
       " 'landed',\n",
       " 'landing',\n",
       " 'las',\n",
       " 'last',\n",
       " 'last night',\n",
       " 'late',\n",
       " 'late flight',\n",
       " 'late flightr',\n",
       " 'lax',\n",
       " 'layover',\n",
       " 'learn',\n",
       " 'least',\n",
       " 'leave',\n",
       " 'leaving',\n",
       " 'left',\n",
       " 'leg',\n",
       " 'less',\n",
       " 'let',\n",
       " 'let know',\n",
       " 'let us',\n",
       " 'letting',\n",
       " 'lga',\n",
       " 'life',\n",
       " 'like',\n",
       " 'line',\n",
       " 'lines',\n",
       " 'link',\n",
       " 'list',\n",
       " 'little',\n",
       " 'live',\n",
       " 'll',\n",
       " 'load',\n",
       " 'lol',\n",
       " 'long',\n",
       " 'longer',\n",
       " 'look',\n",
       " 'looking',\n",
       " 'looking forward',\n",
       " 'looks',\n",
       " 'looks like',\n",
       " 'lose',\n",
       " 'losing',\n",
       " 'lost',\n",
       " 'lost bag',\n",
       " 'lot',\n",
       " 'lots',\n",
       " 'lounge',\n",
       " 'love',\n",
       " 'loyal',\n",
       " 'lt',\n",
       " 'luck',\n",
       " 'luggage',\n",
       " 'luv',\n",
       " 'made',\n",
       " 'mail',\n",
       " 'maintenance',\n",
       " 'make',\n",
       " 'makes',\n",
       " 'making',\n",
       " 'man',\n",
       " 'many',\n",
       " 'matter',\n",
       " 'may',\n",
       " 'maybe',\n",
       " 'mco',\n",
       " 'mean',\n",
       " 'means',\n",
       " 'mechanical',\n",
       " 'media',\n",
       " 'member',\n",
       " 'members',\n",
       " 'mess',\n",
       " 'message',\n",
       " 'mia',\n",
       " 'miami',\n",
       " 'middle',\n",
       " 'might',\n",
       " 'mileage',\n",
       " 'miles',\n",
       " 'min',\n",
       " 'mind',\n",
       " 'mine',\n",
       " 'mins',\n",
       " 'minute',\n",
       " 'minutes',\n",
       " 'miss',\n",
       " 'miss connection',\n",
       " 'missed',\n",
       " 'missed flight',\n",
       " 'missing',\n",
       " 'mobile',\n",
       " 'mom',\n",
       " 'monday',\n",
       " 'money',\n",
       " 'month',\n",
       " 'months',\n",
       " 'morning',\n",
       " 'moved',\n",
       " 'much',\n",
       " 'multiple',\n",
       " 'must',\n",
       " 'na',\n",
       " 'name',\n",
       " 'nashville',\n",
       " 'need',\n",
       " 'need get',\n",
       " 'need help',\n",
       " 'needed',\n",
       " 'needs',\n",
       " 'never',\n",
       " 'never fly',\n",
       " 'new',\n",
       " 'new flight',\n",
       " 'newark',\n",
       " 'news',\n",
       " 'next',\n",
       " 'next flight',\n",
       " 'next time',\n",
       " 'nice',\n",
       " 'night',\n",
       " 'non',\n",
       " 'none',\n",
       " 'nope',\n",
       " 'note',\n",
       " 'nothing',\n",
       " 'notification',\n",
       " 'number',\n",
       " 'ny',\n",
       " 'nyc',\n",
       " 'offer',\n",
       " 'offered',\n",
       " 'oh',\n",
       " 'ok',\n",
       " 'okay',\n",
       " 'old',\n",
       " 'on',\n",
       " 'one',\n",
       " 'online',\n",
       " 'open',\n",
       " 'option',\n",
       " 'options',\n",
       " 'ord',\n",
       " 'order',\n",
       " 'original',\n",
       " 'orlando',\n",
       " 'others',\n",
       " 'overhead',\n",
       " 'overnight',\n",
       " 'page',\n",
       " 'paid',\n",
       " 'part',\n",
       " 'pass',\n",
       " 'passenger',\n",
       " 'passengers',\n",
       " 'past',\n",
       " 'pay',\n",
       " 'paying',\n",
       " 'people',\n",
       " 'person',\n",
       " 'philly',\n",
       " 'phl',\n",
       " 'phone',\n",
       " 'phones',\n",
       " 'phx',\n",
       " 'pick',\n",
       " 'pilot',\n",
       " 'pilots',\n",
       " 'place',\n",
       " 'plane',\n",
       " 'planes',\n",
       " 'plans',\n",
       " 'platinum',\n",
       " 'please',\n",
       " 'please help',\n",
       " 'pls',\n",
       " 'plus',\n",
       " 'plz',\n",
       " 'pm',\n",
       " 'point',\n",
       " 'points',\n",
       " 'policy',\n",
       " 'poor',\n",
       " 'possible',\n",
       " 'post',\n",
       " 'ppl',\n",
       " 'pre',\n",
       " 'pretty',\n",
       " 'price',\n",
       " 'priority',\n",
       " 'probably',\n",
       " 'problem',\n",
       " 'problems',\n",
       " 'process',\n",
       " 'provide',\n",
       " 'purchase',\n",
       " 'put',\n",
       " 'put hold',\n",
       " 'question',\n",
       " 'quick',\n",
       " 'rather',\n",
       " 'rdu',\n",
       " 're',\n",
       " 'reach',\n",
       " 'read',\n",
       " 'ready',\n",
       " 'real',\n",
       " 'really',\n",
       " 'reason',\n",
       " 'rebook',\n",
       " 'rebooked',\n",
       " 'received',\n",
       " 'record',\n",
       " 'reflight',\n",
       " 'reflight booking',\n",
       " 'refund',\n",
       " 'relations',\n",
       " 'rep',\n",
       " 'reply',\n",
       " 'report',\n",
       " 'reps',\n",
       " 'request',\n",
       " 'reschedule',\n",
       " 'rescheduled',\n",
       " 'reservation',\n",
       " 'reservations',\n",
       " 'resolve',\n",
       " 'respond',\n",
       " 'responding',\n",
       " 'response',\n",
       " 'return',\n",
       " 'ridiculous',\n",
       " 'right',\n",
       " 'rock',\n",
       " 'room',\n",
       " 'round',\n",
       " 'row',\n",
       " 'rt',\n",
       " 'rt jetblue',\n",
       " 'rude',\n",
       " 'ruined',\n",
       " 'run',\n",
       " 'running',\n",
       " 'runway',\n",
       " 'sad',\n",
       " 'safety',\n",
       " 'said',\n",
       " 'san',\n",
       " 'sat',\n",
       " 'saw',\n",
       " 'say',\n",
       " 'saying',\n",
       " 'says',\n",
       " 'schedule',\n",
       " 'scheduled',\n",
       " 'seat',\n",
       " 'seats',\n",
       " 'second',\n",
       " 'see',\n",
       " 'seem',\n",
       " 'seems',\n",
       " 'seen',\n",
       " 'send',\n",
       " 'sending',\n",
       " 'sense',\n",
       " 'sent',\n",
       " 'sent dm',\n",
       " 'seriously',\n",
       " 'service',\n",
       " 'service ever',\n",
       " 'set',\n",
       " 'several',\n",
       " 'sfo',\n",
       " 'share',\n",
       " 'shit',\n",
       " 'show',\n",
       " 'showing',\n",
       " 'sign',\n",
       " 'since',\n",
       " 'sit',\n",
       " 'site',\n",
       " 'sitting',\n",
       " 'sitting plane',\n",
       " 'situation',\n",
       " 'sleep',\n",
       " 'small',\n",
       " 'snow',\n",
       " 'social',\n",
       " 'someone',\n",
       " 'something',\n",
       " 'son',\n",
       " 'soon',\n",
       " 'sorry',\n",
       " 'southwest',\n",
       " 'southwestair',\n",
       " 'southwestair flight',\n",
       " 'southwestair hold',\n",
       " 'southwestair please',\n",
       " 'southwestair thank',\n",
       " 'southwestair thanks',\n",
       " 'southwestair would',\n",
       " 'southwestair yes',\n",
       " 'space',\n",
       " 'speak',\n",
       " 'spend',\n",
       " 'spent',\n",
       " 'spoke',\n",
       " 'staff',\n",
       " 'standby',\n",
       " 'start',\n",
       " 'started',\n",
       " 'status',\n",
       " 'stay',\n",
       " 'still',\n",
       " 'still waiting',\n",
       " 'stop',\n",
       " 'storm',\n",
       " 'story',\n",
       " 'stranded',\n",
       " 'stuck',\n",
       " 'submitted',\n",
       " 'suck',\n",
       " 'sucks',\n",
       " 'sunday',\n",
       " 'super',\n",
       " 'supervisor',\n",
       " 'support',\n",
       " 'supposed',\n",
       " 'sure',\n",
       " 'sw',\n",
       " 'swa',\n",
       " 'switch',\n",
       " 'system',\n",
       " 'take',\n",
       " 'taken',\n",
       " 'takes',\n",
       " 'taking',\n",
       " 'talk',\n",
       " 'tarmac',\n",
       " 'team',\n",
       " 'tell',\n",
       " 'telling',\n",
       " 'terminal',\n",
       " 'terrible',\n",
       " 'thank',\n",
       " 'thank much',\n",
       " 'thanks',\n",
       " 'thanks much',\n",
       " 'thing',\n",
       " 'things',\n",
       " 'think',\n",
       " 'though',\n",
       " 'thought',\n",
       " 'three',\n",
       " 'thru',\n",
       " 'thx',\n",
       " 'ticket',\n",
       " 'tickets',\n",
       " 'time',\n",
       " 'times',\n",
       " 'tix',\n",
       " 'today',\n",
       " 'together',\n",
       " 'told',\n",
       " 'tomorrow',\n",
       " 'tomorrow morning',\n",
       " 'tonight',\n",
       " 'took',\n",
       " 'top',\n",
       " 'totally',\n",
       " 'travel',\n",
       " 'traveler',\n",
       " 'traveling',\n",
       " 'treat',\n",
       " 'treated',\n",
       " 'tried',\n",
       " 'trip',\n",
       " 'true',\n",
       " 'try',\n",
       " 'trying',\n",
       " 'trying book',\n",
       " 'trying get',\n",
       " 'tsa',\n",
       " 'tuesday',\n",
       " 'tv',\n",
       " 'tweet',\n",
       " 'twice',\n",
       " 'twitter',\n",
       " 'two',\n",
       " 'two days',\n",
       " 'two hours',\n",
       " 'ua',\n",
       " 'unable',\n",
       " 'unacceptable',\n",
       " 'understand',\n",
       " 'unfortunately',\n",
       " 'unhappy',\n",
       " 'united',\n",
       " 'united airlines',\n",
       " 'united cancelled',\n",
       " 'united flight',\n",
       " 'united need',\n",
       " 'united please',\n",
       " 'united thank',\n",
       " 'united thanks',\n",
       " 'united worst',\n",
       " 'united would',\n",
       " 'united yes',\n",
       " 'unitedairlines',\n",
       " 'update',\n",
       " 'updates',\n",
       " 'upgrade',\n",
       " 'upset',\n",
       " 'ur',\n",
       " 'us',\n",
       " 'us air',\n",
       " 'us airways',\n",
       " 'usair',\n",
       " 'usairways',\n",
       " 'usairways americanair',\n",
       " 'usairways cancelled',\n",
       " 'usairways flight',\n",
       " 'usairways hold',\n",
       " 'usairways please',\n",
       " 'usairways thank',\n",
       " 'usairways thanks',\n",
       " 'usairways ve',\n",
       " 'usairways worst',\n",
       " 'usairways would',\n",
       " 'usairways yes',\n",
       " 'usairwaysfail',\n",
       " 'use',\n",
       " 'used',\n",
       " 'using',\n",
       " 'vacation',\n",
       " 've',\n",
       " 've ever',\n",
       " 've got',\n",
       " 've hold',\n",
       " 'vegas',\n",
       " 'via',\n",
       " 'virgin',\n",
       " 'virginamerica',\n",
       " 'voucher',\n",
       " 'vouchers',\n",
       " 'wait',\n",
       " 'wait time',\n",
       " 'waited',\n",
       " 'waiting',\n",
       " 'want',\n",
       " 'wanted',\n",
       " 'watch',\n",
       " 'water',\n",
       " 'way',\n",
       " 'way get',\n",
       " 'weather',\n",
       " 'web',\n",
       " 'website',\n",
       " 'week',\n",
       " 'weeks',\n",
       " 'well',\n",
       " 'went',\n",
       " 'whole',\n",
       " 'wife',\n",
       " 'wifi',\n",
       " 'winter',\n",
       " 'wish',\n",
       " 'without',\n",
       " 'wo',\n",
       " 'wo let',\n",
       " 'wonderful',\n",
       " 'word',\n",
       " 'work',\n",
       " 'working',\n",
       " 'works',\n",
       " 'world',\n",
       " 'worries',\n",
       " 'worse',\n",
       " 'worst',\n",
       " 'worst airline',\n",
       " 'worst customer',\n",
       " 'would',\n",
       " 'would like',\n",
       " 'would love',\n",
       " 'wow',\n",
       " 'wrong',\n",
       " 'wtf',\n",
       " 'yall',\n",
       " 'yeah',\n",
       " 'year',\n",
       " 'years',\n",
       " 'yes',\n",
       " 'yesterday',\n",
       " 'yet',\n",
       " 'yr',\n",
       " 'zero']"
      ]
     },
     "execution_count": 100,
     "metadata": {},
     "output_type": "execute_result"
    }
   ],
   "source": [
    "v.get_feature_names()\n",
    "    "
   ]
  },
  {
   "cell_type": "code",
   "execution_count": 102,
   "metadata": {
    "collapsed": true
   },
   "outputs": [],
   "source": [
    "test_features = v.transform(x_test)"
   ]
  },
  {
   "cell_type": "code",
   "execution_count": 103,
   "metadata": {
    "collapsed": false
   },
   "outputs": [
    {
     "data": {
      "text/plain": [
       "(3660, 1000)"
      ]
     },
     "execution_count": 103,
     "metadata": {},
     "output_type": "execute_result"
    }
   ],
   "source": [
    "test_features.shape"
   ]
  },
  {
   "cell_type": "code",
   "execution_count": 104,
   "metadata": {
    "collapsed": true
   },
   "outputs": [],
   "source": [
    "from sklearn.tree import DecisionTreeClassifier"
   ]
  },
  {
   "cell_type": "code",
   "execution_count": 105,
   "metadata": {
    "collapsed": false
   },
   "outputs": [
    {
     "data": {
      "text/plain": [
       "DecisionTreeClassifier(class_weight=None, criterion='gini', max_depth=None,\n",
       "            max_features=None, max_leaf_nodes=None,\n",
       "            min_impurity_decrease=0.0, min_impurity_split=None,\n",
       "            min_samples_leaf=1, min_samples_split=2,\n",
       "            min_weight_fraction_leaf=0.0, presort=False, random_state=None,\n",
       "            splitter='best')"
      ]
     },
     "execution_count": 105,
     "metadata": {},
     "output_type": "execute_result"
    }
   ],
   "source": [
    "clf = DecisionTreeClassifier()\n",
    "clf.fit(train_features, y_train)"
   ]
  },
  {
   "cell_type": "code",
   "execution_count": 106,
   "metadata": {
    "collapsed": false
   },
   "outputs": [
    {
     "data": {
      "text/plain": [
       "0.72568306010928962"
      ]
     },
     "execution_count": 106,
     "metadata": {},
     "output_type": "execute_result"
    }
   ],
   "source": [
    "clf.score(test_features, y_test)"
   ]
  },
  {
   "cell_type": "code",
   "execution_count": 107,
   "metadata": {
    "collapsed": true
   },
   "outputs": [],
   "source": [
    "from sklearn.naive_bayes import MultinomialNB"
   ]
  },
  {
   "cell_type": "code",
   "execution_count": 109,
   "metadata": {
    "collapsed": false
   },
   "outputs": [
    {
     "data": {
      "text/plain": [
       "0.79535519125683063"
      ]
     },
     "execution_count": 109,
     "metadata": {},
     "output_type": "execute_result"
    }
   ],
   "source": [
    "clf = MultinomialNB()\n",
    "clf.fit(train_features, y_train)\n",
    "clf.score(test_features, y_test)"
   ]
  },
  {
   "cell_type": "code",
   "execution_count": 117,
   "metadata": {
    "collapsed": false
   },
   "outputs": [],
   "source": [
    "from sklearn import datasets\n",
    "from sklearn.neural_network import MLPClassifier"
   ]
  },
  {
   "cell_type": "code",
   "execution_count": 111,
   "metadata": {
    "collapsed": true
   },
   "outputs": [],
   "source": [
    "iris = datasets.load_iris()"
   ]
  },
  {
   "cell_type": "code",
   "execution_count": 113,
   "metadata": {
    "collapsed": true
   },
   "outputs": [],
   "source": [
    "x = iris.data\n",
    "y = iris.target"
   ]
  },
  {
   "cell_type": "code",
   "execution_count": 114,
   "metadata": {
    "collapsed": true
   },
   "outputs": [],
   "source": [
    "x_train, x_test, y_train, y_test = train_test_split(x, y)"
   ]
  },
  {
   "cell_type": "code",
   "execution_count": 152,
   "metadata": {
    "collapsed": false
   },
   "outputs": [
    {
     "data": {
      "text/plain": [
       "MLPClassifier(activation='relu', alpha=0.0001, batch_size='auto', beta_1=0.9,\n",
       "       beta_2=0.999, early_stopping=False, epsilon=1e-08,\n",
       "       hidden_layer_sizes=8, learning_rate='constant',\n",
       "       learning_rate_init=0.001, max_iter=3000, momentum=0.9,\n",
       "       nesterovs_momentum=True, power_t=0.5, random_state=None,\n",
       "       shuffle=True, solver='adam', tol=0.0001, validation_fraction=0.1,\n",
       "       verbose=False, warm_start=False)"
      ]
     },
     "execution_count": 152,
     "metadata": {},
     "output_type": "execute_result"
    }
   ],
   "source": [
    "clf = MLPClassifier(hidden_layer_sizes = (8), max_iter = 3000)\n",
    "clf.fit(x_train, y_train)"
   ]
  },
  {
   "cell_type": "code",
   "execution_count": 153,
   "metadata": {
    "collapsed": false
   },
   "outputs": [
    {
     "data": {
      "text/plain": [
       "0.97368421052631582"
      ]
     },
     "execution_count": 153,
     "metadata": {},
     "output_type": "execute_result"
    }
   ],
   "source": [
    "clf.score(x_test, y_test)"
   ]
  },
  {
   "cell_type": "code",
   "execution_count": 154,
   "metadata": {
    "collapsed": false
   },
   "outputs": [
    {
     "data": {
      "text/plain": [
       "[array([[  2.76868086e-01,  -1.53144265e-12,  -4.15280842e-01,\n",
       "           4.02020730e-01,  -2.45542222e-02,   4.19011091e-02,\n",
       "           5.67140651e-01,   5.59124487e-01],\n",
       "        [ -4.16502867e-01,   2.57361740e-07,  -5.45737343e-01,\n",
       "           6.30311417e-02,   5.87493176e-03,   1.85995846e-01,\n",
       "           3.59101529e-01,   1.55581246e+00],\n",
       "        [ -5.09369981e-01,   1.35778189e-16,   8.12295792e-01,\n",
       "          -4.34679536e-01,  -2.13128956e-02,  -2.57945773e-01,\n",
       "           5.52299965e-01,  -1.08651340e+00],\n",
       "        [  1.15006249e-01,   2.98619680e-32,   1.06282874e+00,\n",
       "          -7.17292717e-01,  -2.23012596e-02,  -2.21409869e-01,\n",
       "           6.69304713e-01,  -1.72522195e+00]]),\n",
       " array([[ -3.61166177e-01,   3.21484073e-01,  -6.34827310e-01],\n",
       "        [ -1.62033739e-09,   4.27054879e-03,  -2.88384989e-03],\n",
       "        [ -5.77928868e-01,  -1.28438033e+00,   7.07887800e-01],\n",
       "        [  4.21863578e-01,  -7.83948442e-02,   2.05659859e-01],\n",
       "        [  4.56709654e-02,   3.07116583e-02,  -1.97945576e-02],\n",
       "        [  3.20073678e-01,  -2.87935027e-01,  -9.60501004e-02],\n",
       "        [ -5.76220531e-01,   4.80517739e-01,   4.46946353e-01],\n",
       "        [  1.49546420e+00,  -1.09368172e-01,  -2.09756848e+00]])]"
      ]
     },
     "execution_count": 154,
     "metadata": {},
     "output_type": "execute_result"
    }
   ],
   "source": [
    "clf.coefs_"
   ]
  },
  {
   "cell_type": "code",
   "execution_count": null,
   "metadata": {
    "collapsed": true
   },
   "outputs": [],
   "source": []
  },
  {
   "cell_type": "code",
   "execution_count": 139,
   "metadata": {
    "collapsed": true
   },
   "outputs": [],
   "source": [
    "x = [[0,0],[1,0],[0,1],[1,1]]\n",
    "y = [1,0,0,1]\n"
   ]
  },
  {
   "cell_type": "code",
   "execution_count": 144,
   "metadata": {
    "collapsed": false
   },
   "outputs": [
    {
     "data": {
      "text/plain": [
       "MLPClassifier(activation='logistic', alpha=0.0001, batch_size='auto',\n",
       "       beta_1=0.9, beta_2=0.999, early_stopping=False, epsilon=1e-08,\n",
       "       hidden_layer_sizes=2, learning_rate='constant',\n",
       "       learning_rate_init=0.001, max_iter=3000, momentum=0.9,\n",
       "       nesterovs_momentum=True, power_t=0.5, random_state=None,\n",
       "       shuffle=True, solver='adam', tol=0.0001, validation_fraction=0.1,\n",
       "       verbose=False, warm_start=False)"
      ]
     },
     "execution_count": 144,
     "metadata": {},
     "output_type": "execute_result"
    }
   ],
   "source": [
    "clf = MLPClassifier(hidden_layer_sizes = (2), max_iter = 3000, activation=\"logistic\")\n",
    "clf.fit(x, y)"
   ]
  },
  {
   "cell_type": "code",
   "execution_count": 145,
   "metadata": {
    "collapsed": false
   },
   "outputs": [
    {
     "data": {
      "text/plain": [
       "[array([[-0.10548269, -0.52856979],\n",
       "        [ 0.06183796,  0.58211067]]), array([[ 0.58295637],\n",
       "        [ 0.11060647]])]"
      ]
     },
     "execution_count": 145,
     "metadata": {},
     "output_type": "execute_result"
    }
   ],
   "source": [
    "clf.coefs_"
   ]
  },
  {
   "cell_type": "code",
   "execution_count": 146,
   "metadata": {
    "collapsed": false
   },
   "outputs": [
    {
     "data": {
      "text/plain": [
       "[array([ 0.29780698,  0.17743736]), array([-0.20756654])]"
      ]
     },
     "execution_count": 146,
     "metadata": {},
     "output_type": "execute_result"
    }
   ],
   "source": [
    "clf.intercepts_"
   ]
  },
  {
   "cell_type": "code",
   "execution_count": 147,
   "metadata": {
    "collapsed": false
   },
   "outputs": [
    {
     "data": {
      "text/plain": [
       "0.5"
      ]
     },
     "execution_count": 147,
     "metadata": {},
     "output_type": "execute_result"
    }
   ],
   "source": [
    "clf.score(x, y)"
   ]
  }
 ],
 "metadata": {
  "kernelspec": {
   "display_name": "Python [conda env:py3k]",
   "language": "python",
   "name": "conda-env-py3k-py"
  },
  "language_info": {
   "codemirror_mode": {
    "name": "ipython",
    "version": 3
   },
   "file_extension": ".py",
   "mimetype": "text/x-python",
   "name": "python",
   "nbconvert_exporter": "python",
   "pygments_lexer": "ipython3",
   "version": "3.6.0"
  }
 },
 "nbformat": 4,
 "nbformat_minor": 1
}
